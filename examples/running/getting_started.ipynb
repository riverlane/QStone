{
 "cells": [
  {
   "cell_type": "markdown",
   "metadata": {},
   "source": [
    "# Getting started with QStone\n",
    "\n",
    "## Introduction\n",
    "\n",
    "In this tutorial, you will epxlore how to use QStone to benchmark and profile different quantum compuations. It will cover the the following steps:\n",
    "\n",
    "1. **Scheduler and job generation**: Generate the scripts to run the scheduler with jobs defined by an input configuration.\n",
    "2. **Running the scheduler**: Running the computations on the scheduling platform of your choice.\n",
    "3. **Profiling and analysis**: Measuring metrics of the different computations and identifying bottenecks.\n",
    "\n"
   ]
  },
  {
   "cell_type": "markdown",
   "metadata": {},
   "source": [
    "## Prerequisites\n",
    "\n",
    "Follow the installation instructions in the detailed in the repostiry readme.md"
   ]
  },
  {
   "cell_type": "markdown",
   "metadata": {},
   "source": [
    "# Generation\n",
    "\n",
    "## Input configuration\n",
    "\n",
    "First you need to create an input json configuration to describe your  the configuration of your QPU, the type connector you have to interface with your QPU and a list detailing the different users you want to benchmark and the jobs they are interested in running.\n",
    "\n",
    "In the exampple configuration below have defined a QPU requiring 55 qubits on a local NO_LINK connections. We have also defined 3 users 2 uses with different weights (the weight affections the number of jobs generated for each user). Each user has descrived a pdf of the the jobs they are interested in running. In the example the 3 jobs the users are interested in running are:\n",
    "**type0**: A VQE type computation.\n",
    "**type1**: Randomized benchmarking computation.\n",
    "**type2**: Error correction surface code computation."
   ]
  },
  {
   "cell_type": "markdown",
   "metadata": {},
   "source": [
    "```\n",
    "{\n",
    "  \"environment\": {\n",
    "    \"project_name\": \"my_quantum_project\",\n",
    "    \"scheduling_mode\": \"LOCK\",\n",
    "    \"job_count\": 5,\n",
    "    \"qpu\": {\n",
    "      \"mode\": \"RANDOM\"\n",
    "    },\n",
    "    \"connectivity\": {\n",
    "      \"mode\": \"NO_LINK\",\n",
    "      \"qpu\": {\n",
    "        \"ip_address\": \"0.0.0.0\",\n",
    "        \"port\": 55\n",
    "      }\n",
    "    },\n",
    "    \"timeouts\": {\n",
    "      \"http\": 5,\n",
    "      \"lock\": 4\n",
    "    }\n",
    "  },\n",
    "  \"jobs\": [\n",
    "    {\n",
    "      \"type\": \"VQE\",\n",
    "      \"qubits\": [4, 6],\n",
    "      \"num_shots\": [100, 200],\n",
    "      \"walltime\": 10,\n",
    "      \"nthreads\": 4,\n",
    "      \"app_logging_level\": 2\n",
    "    },\n",
    "    {\n",
    "      \"type\": \"RB\",\n",
    "      \"qubits\": [2],\n",
    "      \"num_shots\": [100],\n",
    "      \"walltime\": 10,\n",
    "      \"nthreads\": 2\n",
    "    },\n",
    "    {\n",
    "      \"type\": \"QBC\",\n",
    "      \"qubits\": [4],\n",
    "      \"num_shots\": [32],\n",
    "      \"walltime\": 20,\n",
    "      \"nthreads\": 2\n",
    "    }\n",
    "  ],\n",
    "  \"users\": [\n",
    "    {\n",
    "      \"user\": \"user0\",\n",
    "      \"computations\": {\n",
    "        \"VQE\": 0.05,\n",
    "        \"RB\": 0.94,\n",
    "        \"PyMatching\": 0.01\n",
    "      }\n",
    "    }\n",
    "  ]\n",
    "}\n",
    "```"
   ]
  },
  {
   "cell_type": "markdown",
   "metadata": {},
   "source": [
    "Now on your CLI run the **generate** command \n",
    "\n",
    "    `qstone generate -i conf.json`\n",
    "\n",
    "Generates tar.gz files that contains all the scripts to run scheduler for each user. Currently supported schedulers: [baremetal, altair/fnc, slurm/schedmd]"
   ]
  },
  {
   "cell_type": "markdown",
   "metadata": {},
   "source": [
    "# Running the scheduler\n",
    "\n",
    "Now use the **run** command to execute on your chosen scheduler and user.\n",
    "\n",
    "    `qstone run -i bare_metal_user0.qstone.tar.gz`\n"
   ]
  },
  {
   "cell_type": "markdown",
   "metadata": {},
   "source": [
    "## Profiling\n",
    "Once you have ran the schedulers for the users you are intrested in, you can compile this information using the **profile** command to save it a hdf5 file.\n",
    "\n",
    "    ```qstone profile --cfg conf.json --folder qstone_profile```\n"
   ]
  },
  {
   "cell_type": "markdown",
   "metadata": {},
   "source": [
    "## Analytics"
   ]
  },
  {
   "cell_type": "markdown",
   "metadata": {},
   "source": [
    "We can now read our hdf5 file and develop your own comparisons and analytics.\n",
    "### Loading the hdf5 file"
   ]
  },
  {
   "cell_type": "code",
   "execution_count": 185,
   "metadata": {},
   "outputs": [],
   "source": [
    "import pandas as pd\n",
    "\n",
    "df = pd.read_hdf(\"QS_Profile.h5\")\n",
    "df[\"time_taken\"] = df[\"end\"] - df[\"start\"]"
   ]
  },
  {
   "cell_type": "code",
   "execution_count": 186,
   "metadata": {},
   "outputs": [
    {
     "data": {
      "text/html": [
       "<div>\n",
       "<style scoped>\n",
       "    .dataframe tbody tr th:only-of-type {\n",
       "        vertical-align: middle;\n",
       "    }\n",
       "\n",
       "    .dataframe tbody tr th {\n",
       "        vertical-align: top;\n",
       "    }\n",
       "\n",
       "    .dataframe thead th {\n",
       "        text-align: right;\n",
       "    }\n",
       "</style>\n",
       "<table border=\"1\" class=\"dataframe\">\n",
       "  <thead>\n",
       "    <tr style=\"text-align: right;\">\n",
       "      <th></th>\n",
       "      <th>user</th>\n",
       "      <th>prog_id</th>\n",
       "      <th>job_id</th>\n",
       "      <th>job_type</th>\n",
       "      <th>job_step</th>\n",
       "      <th>start</th>\n",
       "      <th>end</th>\n",
       "      <th>total</th>\n",
       "      <th>pre_agg</th>\n",
       "      <th>run_agg</th>\n",
       "      <th>post_agg</th>\n",
       "      <th>time_taken</th>\n",
       "    </tr>\n",
       "  </thead>\n",
       "  <tbody>\n",
       "    <tr>\n",
       "      <th>0</th>\n",
       "      <td>user1</td>\n",
       "      <td>1</td>\n",
       "      <td>13</td>\n",
       "      <td>TYPE2</td>\n",
       "      <td>RUN</td>\n",
       "      <td>13460072658379251</td>\n",
       "      <td>13460072710011170</td>\n",
       "      <td>51631919</td>\n",
       "      <td>0.0</td>\n",
       "      <td>0.0</td>\n",
       "      <td>0.0</td>\n",
       "      <td>51631919</td>\n",
       "    </tr>\n",
       "    <tr>\n",
       "      <th>0</th>\n",
       "      <td>user1</td>\n",
       "      <td>1</td>\n",
       "      <td>12</td>\n",
       "      <td>CONNECTION</td>\n",
       "      <td>POST</td>\n",
       "      <td>13460060887193711</td>\n",
       "      <td>13460060888921568</td>\n",
       "      <td>1727857</td>\n",
       "      <td>0.0</td>\n",
       "      <td>0.0</td>\n",
       "      <td>0.0</td>\n",
       "      <td>1727857</td>\n",
       "    </tr>\n",
       "    <tr>\n",
       "      <th>0</th>\n",
       "      <td>user1</td>\n",
       "      <td>1</td>\n",
       "      <td>2</td>\n",
       "      <td>TYPE1</td>\n",
       "      <td>PRE</td>\n",
       "      <td>13459881534780579</td>\n",
       "      <td>13459892049466139</td>\n",
       "      <td>10514685560</td>\n",
       "      <td>0.0</td>\n",
       "      <td>0.0</td>\n",
       "      <td>0.0</td>\n",
       "      <td>10514685560</td>\n",
       "    </tr>\n",
       "    <tr>\n",
       "      <th>0</th>\n",
       "      <td>user1</td>\n",
       "      <td>1</td>\n",
       "      <td>6</td>\n",
       "      <td>TYPE2</td>\n",
       "      <td>PRE</td>\n",
       "      <td>13459964471381621</td>\n",
       "      <td>13459964478582371</td>\n",
       "      <td>7200750</td>\n",
       "      <td>0.0</td>\n",
       "      <td>0.0</td>\n",
       "      <td>0.0</td>\n",
       "      <td>7200750</td>\n",
       "    </tr>\n",
       "    <tr>\n",
       "      <th>0</th>\n",
       "      <td>user1</td>\n",
       "      <td>1</td>\n",
       "      <td>29</td>\n",
       "      <td>CONNECTION</td>\n",
       "      <td>PRE</td>\n",
       "      <td>13460378819630543</td>\n",
       "      <td>13460378820157964</td>\n",
       "      <td>527421</td>\n",
       "      <td>0.0</td>\n",
       "      <td>0.0</td>\n",
       "      <td>0.0</td>\n",
       "      <td>527421</td>\n",
       "    </tr>\n",
       "    <tr>\n",
       "      <th>...</th>\n",
       "      <td>...</td>\n",
       "      <td>...</td>\n",
       "      <td>...</td>\n",
       "      <td>...</td>\n",
       "      <td>...</td>\n",
       "      <td>...</td>\n",
       "      <td>...</td>\n",
       "      <td>...</td>\n",
       "      <td>...</td>\n",
       "      <td>...</td>\n",
       "      <td>...</td>\n",
       "      <td>...</td>\n",
       "    </tr>\n",
       "    <tr>\n",
       "      <th>0</th>\n",
       "      <td>user1</td>\n",
       "      <td>1</td>\n",
       "      <td>0</td>\n",
       "      <td>TYPE1</td>\n",
       "      <td>POST</td>\n",
       "      <td>13459852536962882</td>\n",
       "      <td>13459852544902136</td>\n",
       "      <td>7939254</td>\n",
       "      <td>0.0</td>\n",
       "      <td>0.0</td>\n",
       "      <td>0.0</td>\n",
       "      <td>7939254</td>\n",
       "    </tr>\n",
       "    <tr>\n",
       "      <th>0</th>\n",
       "      <td>user1</td>\n",
       "      <td>1</td>\n",
       "      <td>15</td>\n",
       "      <td>TYPE1</td>\n",
       "      <td>PRE</td>\n",
       "      <td>13460094970156969</td>\n",
       "      <td>13460105298817098</td>\n",
       "      <td>10328660129</td>\n",
       "      <td>0.0</td>\n",
       "      <td>0.0</td>\n",
       "      <td>0.0</td>\n",
       "      <td>10328660129</td>\n",
       "    </tr>\n",
       "    <tr>\n",
       "      <th>0</th>\n",
       "      <td>user1</td>\n",
       "      <td>1</td>\n",
       "      <td>0</td>\n",
       "      <td>CONNECTION</td>\n",
       "      <td>QUERY</td>\n",
       "      <td>13459832584482124</td>\n",
       "      <td>13459832597590432</td>\n",
       "      <td>13108308</td>\n",
       "      <td>0.0</td>\n",
       "      <td>0.0</td>\n",
       "      <td>0.0</td>\n",
       "      <td>13108308</td>\n",
       "    </tr>\n",
       "    <tr>\n",
       "      <th>0</th>\n",
       "      <td>user1</td>\n",
       "      <td>1</td>\n",
       "      <td>22</td>\n",
       "      <td>CONNECTION</td>\n",
       "      <td>PRE</td>\n",
       "      <td>13460237528697072</td>\n",
       "      <td>13460237529295670</td>\n",
       "      <td>598598</td>\n",
       "      <td>0.0</td>\n",
       "      <td>0.0</td>\n",
       "      <td>0.0</td>\n",
       "      <td>598598</td>\n",
       "    </tr>\n",
       "    <tr>\n",
       "      <th>0</th>\n",
       "      <td>user1</td>\n",
       "      <td>1</td>\n",
       "      <td>29</td>\n",
       "      <td>TYPE2</td>\n",
       "      <td>RUN</td>\n",
       "      <td>13460378819614991</td>\n",
       "      <td>13460378908378422</td>\n",
       "      <td>88763431</td>\n",
       "      <td>0.0</td>\n",
       "      <td>0.0</td>\n",
       "      <td>0.0</td>\n",
       "      <td>88763431</td>\n",
       "    </tr>\n",
       "  </tbody>\n",
       "</table>\n",
       "<p>180 rows × 12 columns</p>\n",
       "</div>"
      ],
      "text/plain": [
       "     user prog_id job_id    job_type job_step              start  \\\n",
       "0   user1       1     13       TYPE2      RUN  13460072658379251   \n",
       "0   user1       1     12  CONNECTION     POST  13460060887193711   \n",
       "0   user1       1      2       TYPE1      PRE  13459881534780579   \n",
       "0   user1       1      6       TYPE2      PRE  13459964471381621   \n",
       "0   user1       1     29  CONNECTION      PRE  13460378819630543   \n",
       "..    ...     ...    ...         ...      ...                ...   \n",
       "0   user1       1      0       TYPE1     POST  13459852536962882   \n",
       "0   user1       1     15       TYPE1      PRE  13460094970156969   \n",
       "0   user1       1      0  CONNECTION    QUERY  13459832584482124   \n",
       "0   user1       1     22  CONNECTION      PRE  13460237528697072   \n",
       "0   user1       1     29       TYPE2      RUN  13460378819614991   \n",
       "\n",
       "                  end        total  pre_agg  run_agg  post_agg   time_taken  \n",
       "0   13460072710011170     51631919      0.0      0.0       0.0     51631919  \n",
       "0   13460060888921568      1727857      0.0      0.0       0.0      1727857  \n",
       "0   13459892049466139  10514685560      0.0      0.0       0.0  10514685560  \n",
       "0   13459964478582371      7200750      0.0      0.0       0.0      7200750  \n",
       "0   13460378820157964       527421      0.0      0.0       0.0       527421  \n",
       "..                ...          ...      ...      ...       ...          ...  \n",
       "0   13459852544902136      7939254      0.0      0.0       0.0      7939254  \n",
       "0   13460105298817098  10328660129      0.0      0.0       0.0  10328660129  \n",
       "0   13459832597590432     13108308      0.0      0.0       0.0     13108308  \n",
       "0   13460237529295670       598598      0.0      0.0       0.0       598598  \n",
       "0   13460378908378422     88763431      0.0      0.0       0.0     88763431  \n",
       "\n",
       "[180 rows x 12 columns]"
      ]
     },
     "execution_count": 186,
     "metadata": {},
     "output_type": "execute_result"
    }
   ],
   "source": [
    "df"
   ]
  },
  {
   "cell_type": "markdown",
   "metadata": {},
   "source": [
    "### Visualising the profiler"
   ]
  },
  {
   "cell_type": "markdown",
   "metadata": {},
   "source": [
    "We can plot the distriubtion of the different job types."
   ]
  },
  {
   "cell_type": "code",
   "execution_count": 187,
   "metadata": {},
   "outputs": [],
   "source": [
    "import matplotlib.pyplot as plt\n",
    "import numpy as np\n",
    "\n",
    "\n",
    "# Helper function for generating bar charts.\n",
    "def create_bar_chart(data, title, xlabel, ylabel):\n",
    "    colors = plt.cm.viridis(np.linspace(0, 1, len(data)))\n",
    "    data.plot(kind=\"bar\", color=colors)\n",
    "    plt.title(title)\n",
    "    plt.xlabel(xlabel)\n",
    "    plt.ylabel(ylabel)"
   ]
  },
  {
   "cell_type": "code",
   "execution_count": 188,
   "metadata": {},
   "outputs": [
    {
     "data": {
      "image/png": "[encoded data removed]",
      "text/plain": [
       "<Figure size 640x480 with 1 Axes>"
      ]
     },
     "metadata": {},
     "output_type": "display_data"
    }
   ],
   "source": [
    "comp_df = df.loc[df[\"job_type\"] != \"CONNECTION\"]\n",
    "\n",
    "job_type_counts = comp_df[\"job_type\"].value_counts()\n",
    "job_step_counts = comp_df[\"job_step\"].value_counts()\n",
    "\n",
    "create_bar_chart(job_type_counts, \"Job Type Distribution\", \"Job Types\", \"Frequency\")"
   ]
  },
  {
   "cell_type": "markdown",
   "metadata": {},
   "source": [
    "We can also plot the total time spent per job type."
   ]
  },
  {
   "cell_type": "code",
   "execution_count": 189,
   "metadata": {},
   "outputs": [],
   "source": [
    "def calculate_total_time(x):\n",
    "    total_time = x[\"time_taken\"].sum()\n",
    "    return total_time\n",
    "\n",
    "\n",
    "type_run_time = comp_df.groupby(\"job_type\").apply(calculate_total_time)"
   ]
  },
  {
   "cell_type": "code",
   "execution_count": 190,
   "metadata": {},
   "outputs": [
    {
     "data": {
      "image/png": "[encoded data removed]",
      "text/plain": [
       "<Figure size 640x480 with 1 Axes>"
      ]
     },
     "metadata": {},
     "output_type": "display_data"
    }
   ],
   "source": [
    "create_bar_chart(type_run_time, \"Job Type run time\", \"Job Types\", \"Run time (log)\")"
   ]
  },
  {
   "cell_type": "markdown",
   "metadata": {},
   "source": [
    "As you can see the majority of the time is spent on the type1 Randomized Benchmarking computation. We can also plot the log of the run time to better see the run times of the other computations."
   ]
  },
  {
   "cell_type": "code",
   "execution_count": 191,
   "metadata": {},
   "outputs": [
    {
     "data": {
      "image/png": "[encoded data removed]",
      "text/plain": [
       "<Figure size 640x480 with 1 Axes>"
      ]
     },
     "metadata": {},
     "output_type": "display_data"
    }
   ],
   "source": [
    "def total_time_log(x):\n",
    "    total_time = np.log(x[\"time_taken\"].sum())\n",
    "    return total_time\n",
    "\n",
    "\n",
    "log_type_run_time = comp_df.groupby(\"job_type\").apply(total_time_log)\n",
    "create_bar_chart(\n",
    "    log_type_run_time, \"Job Type run time logplot\", \"Job Types\", \"Run time (log)\"\n",
    ")"
   ]
  }
 ],
 "metadata": {
  "kernelspec": {
   "display_name": ".venv",
   "language": "python",
   "name": "python3"
  },
  "language_info": {
   "codemirror_mode": {
    "name": "ipython",
    "version": 3
   },
   "file_extension": ".py",
   "mimetype": "text/x-python",
   "name": "python",
   "nbconvert_exporter": "python",
   "pygments_lexer": "ipython3",
   "version": "3.10.5"
  }
 },
 "nbformat": 4,
 "nbformat_minor": 2
}
